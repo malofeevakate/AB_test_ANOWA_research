{
  "cells": [
    {
      "cell_type": "markdown",
      "metadata": {
        "id": "view-in-github",
        "colab_type": "text"
      },
      "source": [
        "<a href=\"https://colab.research.google.com/github/malofeevakate/AB_test_ANOWA_research/blob/main/AB_test_ANOWA.ipynb\" target=\"_parent\"><img src=\"https://colab.research.google.com/assets/colab-badge.svg\" alt=\"Open In Colab\"/></a>"
      ]
    },
    {
      "cell_type": "code",
      "execution_count": null,
      "metadata": {
        "scrolled": true,
        "id": "LS9Drf_c3bb8",
        "outputId": "2727fe66-cb82-4f58-8aee-72a4fb42e035"
      },
      "outputs": [
        {
          "name": "stderr",
          "output_type": "stream",
          "text": [
            "/opt/tljh/user/lib/python3.7/site-packages/outdated/utils.py:18: OutdatedCacheFailedWarning: Failed to use cache while checking for outdated package.\n",
            "Set the environment variable OUTDATED_RAISE_EXCEPTION=1 for a full traceback.\n",
            "Set the environment variable OUTDATED_IGNORE=1 to disable these warnings.\n",
            "  **kwargs\n",
            "/opt/tljh/user/lib/python3.7/site-packages/outdated/utils.py:18: OutdatedPackageWarning: The package pingouin is out of date. Your version is 0.4.0, the latest is 0.5.1.\n",
            "Set the environment variable OUTDATED_IGNORE=1 to disable these warnings.\n",
            "  **kwargs\n"
          ]
        }
      ],
      "source": [
        "import pandas as pd\n",
        "import numpy as np\n",
        "\n",
        "import scipy.stats as ss\n",
        "import statsmodels.api as sm\n",
        "import statsmodels.formula.api as smf\n",
        "from statsmodels.stats.api import anova_lm\n",
        "from statsmodels.stats.multicomp import (pairwise_tukeyhsd, MultiComparison)\n",
        "import pingouin as pg\n",
        "import matplotlib.pyplot as plt\n",
        "import seaborn as sns"
      ]
    },
    {
      "cell_type": "code",
      "execution_count": null,
      "metadata": {
        "id": "Y5zINv6t3bcB"
      },
      "outputs": [],
      "source": [
        "# считаем данные о реакциях на разные форматы фото в нашем приложении\n",
        "df = pd.read_csv('5_task_1.csv')"
      ]
    },
    {
      "cell_type": "code",
      "execution_count": null,
      "metadata": {
        "id": "KTNm3vvF3bcD",
        "outputId": "eb5e8f8a-dc91-44e1-921a-1758aea30b80"
      },
      "outputs": [
        {
          "data": {
            "text/html": [
              "<div>\n",
              "<style scoped>\n",
              "    .dataframe tbody tr th:only-of-type {\n",
              "        vertical-align: middle;\n",
              "    }\n",
              "\n",
              "    .dataframe tbody tr th {\n",
              "        vertical-align: top;\n",
              "    }\n",
              "\n",
              "    .dataframe thead th {\n",
              "        text-align: right;\n",
              "    }\n",
              "</style>\n",
              "<table border=\"1\" class=\"dataframe\">\n",
              "  <thead>\n",
              "    <tr style=\"text-align: right;\">\n",
              "      <th></th>\n",
              "      <th>id</th>\n",
              "      <th>group</th>\n",
              "      <th>events</th>\n",
              "    </tr>\n",
              "  </thead>\n",
              "  <tbody>\n",
              "    <tr>\n",
              "      <th>0</th>\n",
              "      <td>16046</td>\n",
              "      <td>A</td>\n",
              "      <td>14</td>\n",
              "    </tr>\n",
              "    <tr>\n",
              "      <th>1</th>\n",
              "      <td>18712</td>\n",
              "      <td>A</td>\n",
              "      <td>41</td>\n",
              "    </tr>\n",
              "    <tr>\n",
              "      <th>2</th>\n",
              "      <td>3268</td>\n",
              "      <td>A</td>\n",
              "      <td>30</td>\n",
              "    </tr>\n",
              "    <tr>\n",
              "      <th>3</th>\n",
              "      <td>22633</td>\n",
              "      <td>A</td>\n",
              "      <td>37</td>\n",
              "    </tr>\n",
              "    <tr>\n",
              "      <th>4</th>\n",
              "      <td>28071</td>\n",
              "      <td>A</td>\n",
              "      <td>38</td>\n",
              "    </tr>\n",
              "    <tr>\n",
              "      <th>...</th>\n",
              "      <td>...</td>\n",
              "      <td>...</td>\n",
              "      <td>...</td>\n",
              "    </tr>\n",
              "    <tr>\n",
              "      <th>29995</th>\n",
              "      <td>22932</td>\n",
              "      <td>C</td>\n",
              "      <td>38</td>\n",
              "    </tr>\n",
              "    <tr>\n",
              "      <th>29996</th>\n",
              "      <td>21787</td>\n",
              "      <td>C</td>\n",
              "      <td>25</td>\n",
              "    </tr>\n",
              "    <tr>\n",
              "      <th>29997</th>\n",
              "      <td>5054</td>\n",
              "      <td>C</td>\n",
              "      <td>34</td>\n",
              "    </tr>\n",
              "    <tr>\n",
              "      <th>29998</th>\n",
              "      <td>10254</td>\n",
              "      <td>C</td>\n",
              "      <td>27</td>\n",
              "    </tr>\n",
              "    <tr>\n",
              "      <th>29999</th>\n",
              "      <td>5692</td>\n",
              "      <td>C</td>\n",
              "      <td>49</td>\n",
              "    </tr>\n",
              "  </tbody>\n",
              "</table>\n",
              "<p>30000 rows × 3 columns</p>\n",
              "</div>"
            ],
            "text/plain": [
              "          id group  events\n",
              "0      16046     A      14\n",
              "1      18712     A      41\n",
              "2       3268     A      30\n",
              "3      22633     A      37\n",
              "4      28071     A      38\n",
              "...      ...   ...     ...\n",
              "29995  22932     C      38\n",
              "29996  21787     C      25\n",
              "29997   5054     C      34\n",
              "29998  10254     C      27\n",
              "29999   5692     C      49\n",
              "\n",
              "[30000 rows x 3 columns]"
            ]
          },
          "execution_count": 4,
          "metadata": {},
          "output_type": "execute_result"
        }
      ],
      "source": [
        "df"
      ]
    },
    {
      "cell_type": "code",
      "execution_count": null,
      "metadata": {
        "id": "9YBiGl_U3bcD",
        "outputId": "d1a10444-d7d7-488d-af59-70ec5030d190"
      },
      "outputs": [
        {
          "data": {
            "text/html": [
              "<div>\n",
              "<style scoped>\n",
              "    .dataframe tbody tr th:only-of-type {\n",
              "        vertical-align: middle;\n",
              "    }\n",
              "\n",
              "    .dataframe tbody tr th {\n",
              "        vertical-align: top;\n",
              "    }\n",
              "\n",
              "    .dataframe thead th {\n",
              "        text-align: right;\n",
              "    }\n",
              "</style>\n",
              "<table border=\"1\" class=\"dataframe\">\n",
              "  <thead>\n",
              "    <tr style=\"text-align: right;\">\n",
              "      <th></th>\n",
              "      <th>W</th>\n",
              "      <th>pval</th>\n",
              "      <th>equal_var</th>\n",
              "    </tr>\n",
              "  </thead>\n",
              "  <tbody>\n",
              "    <tr>\n",
              "      <th>levene</th>\n",
              "      <td>2.26226</td>\n",
              "      <td>0.104133</td>\n",
              "      <td>True</td>\n",
              "    </tr>\n",
              "  </tbody>\n",
              "</table>\n",
              "</div>"
            ],
            "text/plain": [
              "              W      pval  equal_var\n",
              "levene  2.26226  0.104133       True"
            ]
          },
          "execution_count": 7,
          "metadata": {},
          "output_type": "execute_result"
        }
      ],
      "source": [
        "# проверим данные внутри групп на гомоскедастичность\n",
        "pg.homoscedasticity(df, dv = 'events', group = 'group', method = 'levene', alpha = 0.05)"
      ]
    },
    {
      "cell_type": "code",
      "execution_count": null,
      "metadata": {
        "id": "RlhO9Rjg3bcE",
        "outputId": "4f2f47eb-35ad-4175-d23f-82fbf3a09220"
      },
      "outputs": [
        {
          "data": {
            "text/html": [
              "<div>\n",
              "<style scoped>\n",
              "    .dataframe tbody tr th:only-of-type {\n",
              "        vertical-align: middle;\n",
              "    }\n",
              "\n",
              "    .dataframe tbody tr th {\n",
              "        vertical-align: top;\n",
              "    }\n",
              "\n",
              "    .dataframe thead th {\n",
              "        text-align: right;\n",
              "    }\n",
              "</style>\n",
              "<table border=\"1\" class=\"dataframe\">\n",
              "  <thead>\n",
              "    <tr style=\"text-align: right;\">\n",
              "      <th></th>\n",
              "      <th>W</th>\n",
              "      <th>pval</th>\n",
              "      <th>normal</th>\n",
              "    </tr>\n",
              "  </thead>\n",
              "  <tbody>\n",
              "    <tr>\n",
              "      <th>A</th>\n",
              "      <td>2.103460</td>\n",
              "      <td>0.349333</td>\n",
              "      <td>True</td>\n",
              "    </tr>\n",
              "    <tr>\n",
              "      <th>B</th>\n",
              "      <td>0.841072</td>\n",
              "      <td>0.656695</td>\n",
              "      <td>True</td>\n",
              "    </tr>\n",
              "    <tr>\n",
              "      <th>C</th>\n",
              "      <td>3.243726</td>\n",
              "      <td>0.197530</td>\n",
              "      <td>True</td>\n",
              "    </tr>\n",
              "  </tbody>\n",
              "</table>\n",
              "</div>"
            ],
            "text/plain": [
              "          W      pval  normal\n",
              "A  2.103460  0.349333    True\n",
              "B  0.841072  0.656695    True\n",
              "C  3.243726  0.197530    True"
            ]
          },
          "execution_count": 10,
          "metadata": {},
          "output_type": "execute_result"
        }
      ],
      "source": [
        "# проверим данные внутри групп на нормальность\n",
        "pg.normality(df, dv = 'events', method = 'normaltest', group = 'group')"
      ]
    },
    {
      "cell_type": "code",
      "execution_count": null,
      "metadata": {
        "id": "Yqtkt8Bj3bcF",
        "outputId": "aabd5094-fe99-4c74-89f0-3c47c9a5b849"
      },
      "outputs": [
        {
          "data": {
            "text/html": [
              "<div>\n",
              "<style scoped>\n",
              "    .dataframe tbody tr th:only-of-type {\n",
              "        vertical-align: middle;\n",
              "    }\n",
              "\n",
              "    .dataframe tbody tr th {\n",
              "        vertical-align: top;\n",
              "    }\n",
              "\n",
              "    .dataframe thead th {\n",
              "        text-align: right;\n",
              "    }\n",
              "</style>\n",
              "<table border=\"1\" class=\"dataframe\">\n",
              "  <thead>\n",
              "    <tr style=\"text-align: right;\">\n",
              "      <th></th>\n",
              "      <th>Source</th>\n",
              "      <th>ddof1</th>\n",
              "      <th>ddof2</th>\n",
              "      <th>F</th>\n",
              "      <th>p-unc</th>\n",
              "      <th>np2</th>\n",
              "    </tr>\n",
              "  </thead>\n",
              "  <tbody>\n",
              "    <tr>\n",
              "      <th>0</th>\n",
              "      <td>group</td>\n",
              "      <td>2</td>\n",
              "      <td>29997</td>\n",
              "      <td>2886.166657</td>\n",
              "      <td>0.0</td>\n",
              "      <td>0.161377</td>\n",
              "    </tr>\n",
              "  </tbody>\n",
              "</table>\n",
              "</div>"
            ],
            "text/plain": [
              "  Source  ddof1  ddof2            F  p-unc       np2\n",
              "0  group      2  29997  2886.166657    0.0  0.161377"
            ]
          },
          "execution_count": 26,
          "metadata": {},
          "output_type": "execute_result"
        }
      ],
      "source": [
        "# так как недостаточно оснований отклонить гипотезы о нормальности данных и гомоскедастичности дисперсий, проведем дисперсионный анализ\n",
        "pg.anova(data = df, dv = 'events', between = 'group')"
      ]
    },
    {
      "cell_type": "code",
      "execution_count": null,
      "metadata": {
        "id": "A0UfoPtW3bcF",
        "outputId": "b6fefd62-2bc1-4783-b1a0-e1c003fbd383"
      },
      "outputs": [
        {
          "data": {
            "text/html": [
              "<div>\n",
              "<style scoped>\n",
              "    .dataframe tbody tr th:only-of-type {\n",
              "        vertical-align: middle;\n",
              "    }\n",
              "\n",
              "    .dataframe tbody tr th {\n",
              "        vertical-align: top;\n",
              "    }\n",
              "\n",
              "    .dataframe thead th {\n",
              "        text-align: right;\n",
              "    }\n",
              "</style>\n",
              "<table border=\"1\" class=\"dataframe\">\n",
              "  <thead>\n",
              "    <tr style=\"text-align: right;\">\n",
              "      <th></th>\n",
              "      <th>A</th>\n",
              "      <th>B</th>\n",
              "      <th>mean(A)</th>\n",
              "      <th>mean(B)</th>\n",
              "      <th>diff</th>\n",
              "      <th>se</th>\n",
              "      <th>T</th>\n",
              "      <th>p-tukey</th>\n",
              "      <th>hedges</th>\n",
              "    </tr>\n",
              "  </thead>\n",
              "  <tbody>\n",
              "    <tr>\n",
              "      <th>0</th>\n",
              "      <td>A</td>\n",
              "      <td>B</td>\n",
              "      <td>29.5796</td>\n",
              "      <td>37.6136</td>\n",
              "      <td>-8.0340</td>\n",
              "      <td>0.140894</td>\n",
              "      <td>-57.021604</td>\n",
              "      <td>0.001</td>\n",
              "      <td>-0.806377</td>\n",
              "    </tr>\n",
              "    <tr>\n",
              "      <th>1</th>\n",
              "      <td>A</td>\n",
              "      <td>C</td>\n",
              "      <td>29.5796</td>\n",
              "      <td>27.4703</td>\n",
              "      <td>2.1093</td>\n",
              "      <td>0.140894</td>\n",
              "      <td>14.970833</td>\n",
              "      <td>0.001</td>\n",
              "      <td>0.211712</td>\n",
              "    </tr>\n",
              "    <tr>\n",
              "      <th>2</th>\n",
              "      <td>B</td>\n",
              "      <td>C</td>\n",
              "      <td>37.6136</td>\n",
              "      <td>27.4703</td>\n",
              "      <td>10.1433</td>\n",
              "      <td>0.140894</td>\n",
              "      <td>71.992436</td>\n",
              "      <td>0.001</td>\n",
              "      <td>1.018089</td>\n",
              "    </tr>\n",
              "  </tbody>\n",
              "</table>\n",
              "</div>"
            ],
            "text/plain": [
              "   A  B  mean(A)  mean(B)     diff        se          T  p-tukey    hedges\n",
              "0  A  B  29.5796  37.6136  -8.0340  0.140894 -57.021604    0.001 -0.806377\n",
              "1  A  C  29.5796  27.4703   2.1093  0.140894  14.970833    0.001  0.211712\n",
              "2  B  C  37.6136  27.4703  10.1433  0.140894  71.992436    0.001  1.018089"
            ]
          },
          "execution_count": 22,
          "metadata": {},
          "output_type": "execute_result"
        }
      ],
      "source": [
        "# P < 0.05, есть основания отклонить нулевую гипотезу (то есть между группами имеются значимые различия)\n",
        "# сравним попарно средние, используя критерий Тьюки\n",
        "\n",
        "pg.pairwise_tukey(df, dv = 'events', between = 'group')"
      ]
    },
    {
      "cell_type": "code",
      "execution_count": null,
      "metadata": {
        "id": "gb-v-AWs3bcG",
        "outputId": "d6a79f09-9aa6-44d1-8d26-a162535b4dcc"
      },
      "outputs": [
        {
          "data": {
            "text/plain": [
              "<matplotlib.axes._subplots.AxesSubplot at 0x7f910b3af320>"
            ]
          },
          "execution_count": 23,
          "metadata": {},
          "output_type": "execute_result"
        },
        {
          "data": {
            "image/png": "[encoded data removed]",
            "text/plain": [
              "<Figure size 432x288 with 1 Axes>"
            ]
          },
          "metadata": {
            "needs_background": "light"
          },
          "output_type": "display_data"
        }
      ],
      "source": [
        "# p < 0,05, значит, между всеми группами имеются статзначимые различия\n",
        "# построим визуализацию и выберем предпочтительный вариант\n",
        "\n",
        "sns.pointplot(x = 'group', y = 'events', data = df, capsize = 0.2)"
      ]
    },
    {
      "cell_type": "code",
      "execution_count": null,
      "metadata": {
        "id": "8ZjqS1HI3bcG"
      },
      "outputs": [],
      "source": [
        "# считаем данные о реакциях на разный вид кнопки заказа\n",
        "df_button = pd.read_csv('5_task_2.csv')"
      ]
    },
    {
      "cell_type": "code",
      "execution_count": null,
      "metadata": {
        "id": "S0bsv_DE3bcH",
        "outputId": "2e3a3d43-1252-4cf6-83df-0d6bba3ee328"
      },
      "outputs": [
        {
          "data": {
            "text/html": [
              "<div>\n",
              "<style scoped>\n",
              "    .dataframe tbody tr th:only-of-type {\n",
              "        vertical-align: middle;\n",
              "    }\n",
              "\n",
              "    .dataframe tbody tr th {\n",
              "        vertical-align: top;\n",
              "    }\n",
              "\n",
              "    .dataframe thead th {\n",
              "        text-align: right;\n",
              "    }\n",
              "</style>\n",
              "<table border=\"1\" class=\"dataframe\">\n",
              "  <thead>\n",
              "    <tr style=\"text-align: right;\">\n",
              "      <th></th>\n",
              "      <th>id</th>\n",
              "      <th>group</th>\n",
              "      <th>segment</th>\n",
              "      <th>events</th>\n",
              "    </tr>\n",
              "  </thead>\n",
              "  <tbody>\n",
              "    <tr>\n",
              "      <th>0</th>\n",
              "      <td>83440</td>\n",
              "      <td>test</td>\n",
              "      <td>high</td>\n",
              "      <td>78.0</td>\n",
              "    </tr>\n",
              "    <tr>\n",
              "      <th>1</th>\n",
              "      <td>96723</td>\n",
              "      <td>test</td>\n",
              "      <td>high</td>\n",
              "      <td>71.0</td>\n",
              "    </tr>\n",
              "    <tr>\n",
              "      <th>2</th>\n",
              "      <td>68719</td>\n",
              "      <td>test</td>\n",
              "      <td>high</td>\n",
              "      <td>80.0</td>\n",
              "    </tr>\n",
              "    <tr>\n",
              "      <th>3</th>\n",
              "      <td>50399</td>\n",
              "      <td>test</td>\n",
              "      <td>high</td>\n",
              "      <td>80.0</td>\n",
              "    </tr>\n",
              "    <tr>\n",
              "      <th>4</th>\n",
              "      <td>95613</td>\n",
              "      <td>test</td>\n",
              "      <td>high</td>\n",
              "      <td>78.0</td>\n",
              "    </tr>\n",
              "    <tr>\n",
              "      <th>...</th>\n",
              "      <td>...</td>\n",
              "      <td>...</td>\n",
              "      <td>...</td>\n",
              "      <td>...</td>\n",
              "    </tr>\n",
              "    <tr>\n",
              "      <th>99995</th>\n",
              "      <td>60695</td>\n",
              "      <td>control</td>\n",
              "      <td>low</td>\n",
              "      <td>15.0</td>\n",
              "    </tr>\n",
              "    <tr>\n",
              "      <th>99996</th>\n",
              "      <td>5934</td>\n",
              "      <td>control</td>\n",
              "      <td>low</td>\n",
              "      <td>16.0</td>\n",
              "    </tr>\n",
              "    <tr>\n",
              "      <th>99997</th>\n",
              "      <td>30046</td>\n",
              "      <td>control</td>\n",
              "      <td>low</td>\n",
              "      <td>22.0</td>\n",
              "    </tr>\n",
              "    <tr>\n",
              "      <th>99998</th>\n",
              "      <td>26474</td>\n",
              "      <td>control</td>\n",
              "      <td>low</td>\n",
              "      <td>21.0</td>\n",
              "    </tr>\n",
              "    <tr>\n",
              "      <th>99999</th>\n",
              "      <td>42649</td>\n",
              "      <td>control</td>\n",
              "      <td>low</td>\n",
              "      <td>23.0</td>\n",
              "    </tr>\n",
              "  </tbody>\n",
              "</table>\n",
              "<p>100000 rows × 4 columns</p>\n",
              "</div>"
            ],
            "text/plain": [
              "          id    group segment  events\n",
              "0      83440     test    high    78.0\n",
              "1      96723     test    high    71.0\n",
              "2      68719     test    high    80.0\n",
              "3      50399     test    high    80.0\n",
              "4      95613     test    high    78.0\n",
              "...      ...      ...     ...     ...\n",
              "99995  60695  control     low    15.0\n",
              "99996   5934  control     low    16.0\n",
              "99997  30046  control     low    22.0\n",
              "99998  26474  control     low    21.0\n",
              "99999  42649  control     low    23.0\n",
              "\n",
              "[100000 rows x 4 columns]"
            ]
          },
          "execution_count": 7,
          "metadata": {},
          "output_type": "execute_result"
        }
      ],
      "source": [
        "df_button"
      ]
    },
    {
      "cell_type": "markdown",
      "metadata": {
        "id": "K4HFpvS-3bcI"
      },
      "source": [
        "требуется проверить, как пользователи отреагируют на изменение формата кнопки оформления заказа, с разбивкой по сегменту клиента. Поскольку у нас есть несколько переменных - зависимая (число событий) и два независимых фактора (сегмент клиента и его группа) - используем многофакторный ANOVA"
      ]
    },
    {
      "cell_type": "code",
      "execution_count": null,
      "metadata": {
        "id": "Gxp3APNY3bcK"
      },
      "outputs": [],
      "source": [
        "# выделим тестовые значения из датафрейма\n",
        "df_button_test = df_button.query('group == \"test\"')"
      ]
    },
    {
      "cell_type": "code",
      "execution_count": null,
      "metadata": {
        "id": "0A1aeTM_3bcL"
      },
      "outputs": [],
      "source": [
        "# выделим контрольные занчения из датафрейма\n",
        "df_button_control = df_button.query('group == \"control\"')"
      ]
    },
    {
      "cell_type": "code",
      "execution_count": null,
      "metadata": {
        "id": "8ZnuOaUX3bcM",
        "outputId": "00cbfcde-5c85-4c52-9110-23240ae674ab"
      },
      "outputs": [
        {
          "name": "stderr",
          "output_type": "stream",
          "text": [
            "/opt/tljh/user/lib/python3.7/site-packages/seaborn/distributions.py:2557: FutureWarning: `distplot` is a deprecated function and will be removed in a future version. Please adapt your code to use either `displot` (a figure-level function with similar flexibility) or `histplot` (an axes-level function for histograms).\n",
            "  warnings.warn(msg, FutureWarning)\n"
          ]
        },
        {
          "data": {
            "text/plain": [
              "<matplotlib.axes._subplots.AxesSubplot at 0x7f0985267ac8>"
            ]
          },
          "execution_count": 5,
          "metadata": {},
          "output_type": "execute_result"
        },
        {
          "data": {
            "image/png": "[encoded data removed]",
            "text/plain": [
              "<Figure size 432x288 with 1 Axes>"
            ]
          },
          "metadata": {
            "needs_background": "light"
          },
          "output_type": "display_data"
        }
      ],
      "source": [
        "# посмотрим на распределение реакций в тестовой группе\n",
        "sns.distplot(df_button_test.events, kde = False)"
      ]
    },
    {
      "cell_type": "code",
      "execution_count": null,
      "metadata": {
        "id": "87R3Dc1S3bcN",
        "outputId": "930a36c0-b8c6-4cdf-8d13-69894efe5cce"
      },
      "outputs": [
        {
          "data": {
            "text/plain": [
              "<matplotlib.axes._subplots.AxesSubplot at 0x7f0984a4e0f0>"
            ]
          },
          "execution_count": 6,
          "metadata": {},
          "output_type": "execute_result"
        },
        {
          "data": {
            "image/png": "[encoded data removed]",
            "text/plain": [
              "<Figure size 432x288 with 1 Axes>"
            ]
          },
          "metadata": {
            "needs_background": "light"
          },
          "output_type": "display_data"
        }
      ],
      "source": [
        "# посмотрим на распределение реакций в контрольной группе\n",
        "sns.distplot(df_button_control.events, kde = False)"
      ]
    },
    {
      "cell_type": "code",
      "execution_count": null,
      "metadata": {
        "id": "MYMosoH63bcO",
        "outputId": "9f9e01f0-6e9a-40a7-ddf0-28c224097322"
      },
      "outputs": [
        {
          "data": {
            "text/plain": [
              "count    10000.000000\n",
              "mean        69.938500\n",
              "std          8.403974\n",
              "min         40.000000\n",
              "25%         64.000000\n",
              "50%         70.000000\n",
              "75%         76.000000\n",
              "max        102.000000\n",
              "Name: events, dtype: float64"
            ]
          },
          "execution_count": 7,
          "metadata": {},
          "output_type": "execute_result"
        }
      ],
      "source": [
        "df_button_test.query('segment == \"high\"').events.describe()"
      ]
    },
    {
      "cell_type": "code",
      "execution_count": null,
      "metadata": {
        "id": "l3hb1PKB3bcO",
        "outputId": "d2705c07-c4cc-48a1-8346-938d4911e6b2"
      },
      "outputs": [
        {
          "data": {
            "text/plain": [
              "count    40000.000000\n",
              "mean        33.025925\n",
              "std          5.720845\n",
              "min         13.000000\n",
              "25%         29.000000\n",
              "50%         33.000000\n",
              "75%         37.000000\n",
              "max         59.000000\n",
              "Name: events, dtype: float64"
            ]
          },
          "execution_count": 8,
          "metadata": {},
          "output_type": "execute_result"
        }
      ],
      "source": [
        "# выведем описательные статистики для каждого сегмента в каждой группе\n",
        "df_button_test.query('segment == \"low\"').events.describe()"
      ]
    },
    {
      "cell_type": "code",
      "execution_count": null,
      "metadata": {
        "id": "krOPrJbw3bcP",
        "outputId": "d55539cd-50b9-4053-d345-6243fbec62d0"
      },
      "outputs": [
        {
          "data": {
            "text/plain": [
              "count    10000.000000\n",
              "mean        59.970800\n",
              "std          7.805347\n",
              "min         31.000000\n",
              "25%         55.000000\n",
              "50%         60.000000\n",
              "75%         65.000000\n",
              "max         89.000000\n",
              "Name: events, dtype: float64"
            ]
          },
          "execution_count": 9,
          "metadata": {},
          "output_type": "execute_result"
        }
      ],
      "source": [
        "# выведем описательные статистики для каждого сегмента в каждой группе\n",
        "df_button_control.query('segment == \"high\"').events.describe()"
      ]
    },
    {
      "cell_type": "code",
      "execution_count": null,
      "metadata": {
        "id": "ojU2Ybh43bcP",
        "outputId": "896964f0-d796-420e-8674-5db96bf76397"
      },
      "outputs": [
        {
          "data": {
            "text/plain": [
              "count    40000.000000\n",
              "mean        20.031575\n",
              "std          4.473576\n",
              "min          4.000000\n",
              "25%         17.000000\n",
              "50%         20.000000\n",
              "75%         23.000000\n",
              "max         41.000000\n",
              "Name: events, dtype: float64"
            ]
          },
          "execution_count": 10,
          "metadata": {},
          "output_type": "execute_result"
        }
      ],
      "source": [
        "# выведем описательные статистики для каждого сегмента в каждой группе\n",
        "df_button_control.query('segment == \"low\"').events.describe()"
      ]
    },
    {
      "cell_type": "code",
      "execution_count": null,
      "metadata": {
        "id": "GSRE-Jc33bcQ"
      },
      "outputs": [],
      "source": [
        "# для проведения анализа создадим доп колонку с объединением данных о группе и сегменте клиента\n",
        "df_button['comb'] = df_button.group + '/' + df_button.segment"
      ]
    },
    {
      "cell_type": "code",
      "execution_count": null,
      "metadata": {
        "id": "jEab89HV3bcQ",
        "outputId": "afe67d73-5ee8-438a-9409-41caac7e1c3c"
      },
      "outputs": [
        {
          "data": {
            "text/html": [
              "<div>\n",
              "<style scoped>\n",
              "    .dataframe tbody tr th:only-of-type {\n",
              "        vertical-align: middle;\n",
              "    }\n",
              "\n",
              "    .dataframe tbody tr th {\n",
              "        vertical-align: top;\n",
              "    }\n",
              "\n",
              "    .dataframe thead th {\n",
              "        text-align: right;\n",
              "    }\n",
              "</style>\n",
              "<table border=\"1\" class=\"dataframe\">\n",
              "  <thead>\n",
              "    <tr style=\"text-align: right;\">\n",
              "      <th></th>\n",
              "      <th>id</th>\n",
              "      <th>group</th>\n",
              "      <th>segment</th>\n",
              "      <th>events</th>\n",
              "      <th>comb</th>\n",
              "    </tr>\n",
              "  </thead>\n",
              "  <tbody>\n",
              "    <tr>\n",
              "      <th>0</th>\n",
              "      <td>83440</td>\n",
              "      <td>test</td>\n",
              "      <td>high</td>\n",
              "      <td>78.0</td>\n",
              "      <td>test/high</td>\n",
              "    </tr>\n",
              "    <tr>\n",
              "      <th>1</th>\n",
              "      <td>96723</td>\n",
              "      <td>test</td>\n",
              "      <td>high</td>\n",
              "      <td>71.0</td>\n",
              "      <td>test/high</td>\n",
              "    </tr>\n",
              "    <tr>\n",
              "      <th>2</th>\n",
              "      <td>68719</td>\n",
              "      <td>test</td>\n",
              "      <td>high</td>\n",
              "      <td>80.0</td>\n",
              "      <td>test/high</td>\n",
              "    </tr>\n",
              "    <tr>\n",
              "      <th>3</th>\n",
              "      <td>50399</td>\n",
              "      <td>test</td>\n",
              "      <td>high</td>\n",
              "      <td>80.0</td>\n",
              "      <td>test/high</td>\n",
              "    </tr>\n",
              "    <tr>\n",
              "      <th>4</th>\n",
              "      <td>95613</td>\n",
              "      <td>test</td>\n",
              "      <td>high</td>\n",
              "      <td>78.0</td>\n",
              "      <td>test/high</td>\n",
              "    </tr>\n",
              "  </tbody>\n",
              "</table>\n",
              "</div>"
            ],
            "text/plain": [
              "      id group segment  events       comb\n",
              "0  83440  test    high    78.0  test/high\n",
              "1  96723  test    high    71.0  test/high\n",
              "2  68719  test    high    80.0  test/high\n",
              "3  50399  test    high    80.0  test/high\n",
              "4  95613  test    high    78.0  test/high"
            ]
          },
          "execution_count": 12,
          "metadata": {},
          "output_type": "execute_result"
        }
      ],
      "source": [
        "df_button.head()"
      ]
    },
    {
      "cell_type": "code",
      "execution_count": null,
      "metadata": {
        "id": "n6b4PA2l3bcQ",
        "outputId": "40406125-19b8-46c5-d8b6-7d418a7f7224"
      },
      "outputs": [
        {
          "data": {
            "text/html": [
              "<div>\n",
              "<style scoped>\n",
              "    .dataframe tbody tr th:only-of-type {\n",
              "        vertical-align: middle;\n",
              "    }\n",
              "\n",
              "    .dataframe tbody tr th {\n",
              "        vertical-align: top;\n",
              "    }\n",
              "\n",
              "    .dataframe thead th {\n",
              "        text-align: right;\n",
              "    }\n",
              "</style>\n",
              "<table border=\"1\" class=\"dataframe\">\n",
              "  <thead>\n",
              "    <tr style=\"text-align: right;\">\n",
              "      <th></th>\n",
              "      <th>Source</th>\n",
              "      <th>ddof1</th>\n",
              "      <th>ddof2</th>\n",
              "      <th>F</th>\n",
              "      <th>p-unc</th>\n",
              "      <th>np2</th>\n",
              "    </tr>\n",
              "  </thead>\n",
              "  <tbody>\n",
              "    <tr>\n",
              "      <th>0</th>\n",
              "      <td>comb</td>\n",
              "      <td>3</td>\n",
              "      <td>99996</td>\n",
              "      <td>267619.354959</td>\n",
              "      <td>0.0</td>\n",
              "      <td>0.889245</td>\n",
              "    </tr>\n",
              "  </tbody>\n",
              "</table>\n",
              "</div>"
            ],
            "text/plain": [
              "  Source  ddof1  ddof2              F  p-unc       np2\n",
              "0   comb      3  99996  267619.354959    0.0  0.889245"
            ]
          },
          "execution_count": 13,
          "metadata": {},
          "output_type": "execute_result"
        }
      ],
      "source": [
        "# ANOVA говорит, что среди указанных 4 подгрупп наблюдаются значимые различия\n",
        "pg.anova(df_button, dv = 'events', between = 'comb')"
      ]
    },
    {
      "cell_type": "code",
      "execution_count": null,
      "metadata": {
        "id": "6_3Z5ySN3bcQ",
        "outputId": "b8b184c9-df25-4593-a4d6-8bb8177e3e26"
      },
      "outputs": [
        {
          "data": {
            "text/html": [
              "<div>\n",
              "<style scoped>\n",
              "    .dataframe tbody tr th:only-of-type {\n",
              "        vertical-align: middle;\n",
              "    }\n",
              "\n",
              "    .dataframe tbody tr th {\n",
              "        vertical-align: top;\n",
              "    }\n",
              "\n",
              "    .dataframe thead th {\n",
              "        text-align: right;\n",
              "    }\n",
              "</style>\n",
              "<table border=\"1\" class=\"dataframe\">\n",
              "  <thead>\n",
              "    <tr style=\"text-align: right;\">\n",
              "      <th></th>\n",
              "      <th>A</th>\n",
              "      <th>B</th>\n",
              "      <th>mean(A)</th>\n",
              "      <th>mean(B)</th>\n",
              "      <th>diff</th>\n",
              "      <th>se</th>\n",
              "      <th>T</th>\n",
              "      <th>p-tukey</th>\n",
              "      <th>hedges</th>\n",
              "    </tr>\n",
              "  </thead>\n",
              "  <tbody>\n",
              "    <tr>\n",
              "      <th>0</th>\n",
              "      <td>control/high</td>\n",
              "      <td>control/low</td>\n",
              "      <td>59.970800</td>\n",
              "      <td>20.031575</td>\n",
              "      <td>39.939225</td>\n",
              "      <td>0.065432</td>\n",
              "      <td>610.391461</td>\n",
              "      <td>0.001</td>\n",
              "      <td>6.824282</td>\n",
              "    </tr>\n",
              "    <tr>\n",
              "      <th>1</th>\n",
              "      <td>control/high</td>\n",
              "      <td>test/high</td>\n",
              "      <td>59.970800</td>\n",
              "      <td>69.938500</td>\n",
              "      <td>-9.967700</td>\n",
              "      <td>0.082766</td>\n",
              "      <td>-120.432523</td>\n",
              "      <td>0.001</td>\n",
              "      <td>-1.703109</td>\n",
              "    </tr>\n",
              "    <tr>\n",
              "      <th>2</th>\n",
              "      <td>control/high</td>\n",
              "      <td>test/low</td>\n",
              "      <td>59.970800</td>\n",
              "      <td>33.025925</td>\n",
              "      <td>26.944875</td>\n",
              "      <td>0.065432</td>\n",
              "      <td>411.798717</td>\n",
              "      <td>0.001</td>\n",
              "      <td>4.603981</td>\n",
              "    </tr>\n",
              "    <tr>\n",
              "      <th>3</th>\n",
              "      <td>control/low</td>\n",
              "      <td>test/high</td>\n",
              "      <td>20.031575</td>\n",
              "      <td>69.938500</td>\n",
              "      <td>-49.906925</td>\n",
              "      <td>0.065432</td>\n",
              "      <td>-762.727892</td>\n",
              "      <td>0.001</td>\n",
              "      <td>-8.527429</td>\n",
              "    </tr>\n",
              "    <tr>\n",
              "      <th>4</th>\n",
              "      <td>control/low</td>\n",
              "      <td>test/low</td>\n",
              "      <td>20.031575</td>\n",
              "      <td>33.025925</td>\n",
              "      <td>-12.994350</td>\n",
              "      <td>0.041383</td>\n",
              "      <td>-314.002699</td>\n",
              "      <td>0.001</td>\n",
              "      <td>-2.220314</td>\n",
              "    </tr>\n",
              "    <tr>\n",
              "      <th>5</th>\n",
              "      <td>test/high</td>\n",
              "      <td>test/low</td>\n",
              "      <td>69.938500</td>\n",
              "      <td>33.025925</td>\n",
              "      <td>36.912575</td>\n",
              "      <td>0.065432</td>\n",
              "      <td>564.135148</td>\n",
              "      <td>0.001</td>\n",
              "      <td>6.307128</td>\n",
              "    </tr>\n",
              "  </tbody>\n",
              "</table>\n",
              "</div>"
            ],
            "text/plain": [
              "              A            B    mean(A)    mean(B)       diff        se  \\\n",
              "0  control/high  control/low  59.970800  20.031575  39.939225  0.065432   \n",
              "1  control/high    test/high  59.970800  69.938500  -9.967700  0.082766   \n",
              "2  control/high     test/low  59.970800  33.025925  26.944875  0.065432   \n",
              "3   control/low    test/high  20.031575  69.938500 -49.906925  0.065432   \n",
              "4   control/low     test/low  20.031575  33.025925 -12.994350  0.041383   \n",
              "5     test/high     test/low  69.938500  33.025925  36.912575  0.065432   \n",
              "\n",
              "            T  p-tukey    hedges  \n",
              "0  610.391461    0.001  6.824282  \n",
              "1 -120.432523    0.001 -1.703109  \n",
              "2  411.798717    0.001  4.603981  \n",
              "3 -762.727892    0.001 -8.527429  \n",
              "4 -314.002699    0.001 -2.220314  \n",
              "5  564.135148    0.001  6.307128  "
            ]
          },
          "execution_count": 14,
          "metadata": {},
          "output_type": "execute_result"
        }
      ],
      "source": [
        "# из-за множественных сравнений применим критерий Тьюки и определим, между какими подгруппами имеются зачимые различия\n",
        "pg.pairwise_tukey(df_button, dv = 'events', between = 'comb')"
      ]
    },
    {
      "cell_type": "code",
      "execution_count": null,
      "metadata": {
        "id": "HB2Fh7hP3bcR",
        "outputId": "0746e42f-c3b2-441d-b0e2-98ca5838d4fd"
      },
      "outputs": [
        {
          "data": {
            "text/plain": [
              "Text(0, 0.5, 'Среднее по реакциям')"
            ]
          },
          "execution_count": 19,
          "metadata": {},
          "output_type": "execute_result"
        },
        {
          "data": {
            "image/png": "[encoded data removed]",
            "text/plain": [
              "<Figure size 432x288 with 1 Axes>"
            ]
          },
          "metadata": {
            "needs_background": "light"
          },
          "output_type": "display_data"
        }
      ],
      "source": [
        "# визуализируем средние внутри подгрупп\n",
        "sns.pointplot(x = 'comb', y = 'events', hue = 'group', data = df_button, capsize = .2)\n",
        "plt.title('Распределение средних значений реакций внутри групп и сегментов клиентов')\n",
        "plt.xlabel('Подгруппа клиента')\n",
        "plt.ylabel('Среднее по реакциям')"
      ]
    },
    {
      "cell_type": "markdown",
      "metadata": {
        "id": "yLnZibwo3bcR"
      },
      "source": [
        "Итого, мы наблюдаем стат значимые различия между всеми подгруппами, при этом средние в тестовых подгруппах выше, чем в контрольных (в обоих клиентских сегментах).  Соответственно, имеется достаточно оснований выкатить новый дизайн кнопки и фото на всю клиентскую базу"
      ]
    }
  ],
  "metadata": {
    "kernelspec": {
      "display_name": "Python 3 (ipykernel)",
      "language": "python",
      "name": "python3"
    },
    "language_info": {
      "codemirror_mode": {
        "name": "ipython",
        "version": 3
      },
      "file_extension": ".py",
      "mimetype": "text/x-python",
      "name": "python",
      "nbconvert_exporter": "python",
      "pygments_lexer": "ipython3",
      "version": "3.8.8"
    },
    "colab": {
      "provenance": [],
      "include_colab_link": true
    }
  },
  "nbformat": 4,
  "nbformat_minor": 0
}